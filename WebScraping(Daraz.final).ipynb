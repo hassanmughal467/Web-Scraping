{
 "cells": [
  {
   "cell_type": "code",
   "execution_count": 16,
   "metadata": {},
   "outputs": [],
   "source": [
    "import urllib.parse,urllib.error,urllib.request\n",
    "from bs4 import BeautifulSoup as bs\n",
    "import ssl"
   ]
  },
  {
   "cell_type": "code",
   "execution_count": 17,
   "metadata": {},
   "outputs": [],
   "source": [
    "url=\"https://www.newegg.com/Video-Cards-Video-Devices/Category/ID-38?Tpk=graphics%20cards\"\n",
    "# Ignore SSL certificate errors\n",
    "ctx = ssl.create_default_context()\n",
    "ctx.check_hostname = False\n",
    "ctx.verify_mode = ssl.CERT_NONE\n",
    "html = urllib.request.urlopen(url,context=ctx).read()\n",
    "soup=bs(html,'html.parser')\n"
   ]
  },
  {
   "cell_type": "code",
   "execution_count": 18,
   "metadata": {},
   "outputs": [
    {
     "data": {
      "text/plain": [
       "12"
      ]
     },
     "execution_count": 18,
     "metadata": {},
     "output_type": "execute_result"
    }
   ],
   "source": [
    "#Grabs each product\n",
    "container=soup.findAll(\"div\",{\"class\":\"item-container\"})\n",
    "container=soup.findAll(\"div\",{\"class\":\"item-info\"})\n",
    "len(container) #this means 12 graphics crd only\n"
   ]
  },
  {
   "cell_type": "code",
   "execution_count": 19,
   "metadata": {},
   "outputs": [
    {
     "data": {
      "text/plain": [
       "28"
      ]
     },
     "execution_count": 19,
     "metadata": {},
     "output_type": "execute_result"
    }
   ],
   "source": [
    "filename=\"Product_Info.csv\"\n",
    "headers=\"Brnad,Product_name,Shipping\\n\"#csv is delimited newline thats y\n",
    "f=open(filename,\"w\")\n",
    "f.write(headers)"
   ]
  },
  {
   "cell_type": "code",
   "execution_count": 20,
   "metadata": {},
   "outputs": [
    {
     "name": "stdout",
     "output_type": "stream",
     "text": [
      "Brand :EVGA\n",
      "product_name :EVGA GeForce RTX 2070 SUPER BLACK GAMING, 08G-P4-3071-KR\n",
      "shipping :$3.99 Shipping\n",
      "Brand :ASUS\n",
      "product_name :ASUS ROG Strix Radeon RX 5700 XT ROG-STRIX-RX5700XT-O8G-GAMING Video Card\n",
      "shipping :Free Shipping\n",
      "Brand :MSI\n",
      "product_name :MSI GeForce GTX 1660 DirectX 12 GTX 1660 VENTUS XS 6G OC Video Card\n",
      "shipping :Free Shipping\n",
      "Brand :Sapphire Tech\n",
      "product_name :Sapphire PULSE Radeon RX 580 8GB GDDR5 PCI-E Dual HDMI / DVI-D / Dual DP OC w/ Backplate (UEFI), 100411P8GOCL\n",
      "shipping :Free Shipping\n",
      "Brand :EVGA\n",
      "product_name :EVGA GeForce RTX 2060 KO GAMING Video Card, 06G-P4-2066-KR, 6GB GDDR6, Dual Fans, Metal Backplate\n",
      "shipping :$3.99 Shipping\n",
      "Brand :XFX\n",
      "product_name :XFX Radeon RX 570 DirectX 12 RX-570P8DFD6 Video Card\n",
      "shipping :$3.99 Shipping\n",
      "Brand :ASUS\n",
      "product_name :ASUS Dual GeForce RTX 2080 Ti DirectX 12 DUAL-RTX2080TI-O11G Video Card\n",
      "shipping :Free Shipping\n",
      "Brand :MSI\n",
      "product_name :MSI Radeon RX 5700 DirectX 12 RX 5700 EVOKE OC Video Card\n",
      "shipping :Free Shipping\n",
      "Brand :XFX\n",
      "product_name :XFX RADEON RX 590 FATBOY Core Edition 8GB 1580MHz DDR5 3xDP HDMI DVI PCI Express 3.0 Graphics Card RX-590P8DLD6\n",
      "shipping :$3.99 Shipping\n",
      "Brand :EVGA\n",
      "product_name :EVGA GeForce GTX 1660 SC ULTRA GAMING, 06G-P4-1067-KR, 6GB GDDR5, Dual Fan, Metal Backplate\n",
      "shipping :Free Shipping\n",
      "Brand :GIGABYTE\n",
      "product_name :GIGABYTE Radeon RX 5700 XT GAMING OC 8G Graphics Card, GV-R57XTGAMING OC-8GD\n",
      "shipping :Free Shipping\n",
      "Brand :ASRock\n",
      "product_name :ASRock Phantom Gaming X Radeon RX Vega 56 DirectX 12 RX VEGA 56 8G Video Card\n",
      "shipping :Free Shipping\n"
     ]
    }
   ],
   "source": [
    "for i in container:\n",
    "    brand=i.div.a.img[\"title\"]\n",
    "    title_container=i.findAll(\"a\",{\"class\":\"item-title\"})\n",
    "    product_name=title_container[0].text\n",
    "    shiping_container=i.findAll(\"li\",{\"class\":\"price-ship\"})\n",
    "    shipping=shiping_container[0].text.strip()\n",
    "    print(\"Brand :\"+brand)\n",
    "    print(\"product_name :\"+product_name)\n",
    "    print(\"shipping :\"+shipping)\n",
    "    f.write(brand+\",\"+product_name.replace(\",\",\"|\")+\",\"+shipping+ \"\\n\")#dont forget to delimited new line\n",
    "f.close()"
   ]
  },
  {
   "cell_type": "code",
   "execution_count": null,
   "metadata": {},
   "outputs": [],
   "source": []
  }
 ],
 "metadata": {
  "kernelspec": {
   "display_name": "Python 3",
   "language": "python",
   "name": "python3"
  },
  "language_info": {
   "codemirror_mode": {
    "name": "ipython",
    "version": 3
   },
   "file_extension": ".py",
   "mimetype": "text/x-python",
   "name": "python",
   "nbconvert_exporter": "python",
   "pygments_lexer": "ipython3",
   "version": "3.7.3"
  }
 },
 "nbformat": 4,
 "nbformat_minor": 2
}
