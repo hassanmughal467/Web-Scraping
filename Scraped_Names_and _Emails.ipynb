{
 "cells": [
  {
   "cell_type": "code",
   "execution_count": 1,
   "metadata": {},
   "outputs": [],
   "source": [
    "import urllib.parse,urllib.error,urllib.request\n",
    "from bs4 import BeautifulSoup as bs\n",
    "import ssl\n",
    "import re\n",
    "from urllib.request import urlopen, Request\n",
    "from csv import DictWriter\n",
    "import os"
   ]
  },
  {
   "cell_type": "code",
   "execution_count": 2,
   "metadata": {},
   "outputs": [],
   "source": [
    "def url(url):# Ignore SSL certificate errors\n",
    "    try: \n",
    "        ctx = ssl.create_default_context()\n",
    "        ctx.check_hostname = False\n",
    "        ctx.verify_mode = ssl.CERT_NONE\n",
    "        headers = {\"User-Agent\": \"Mozilla/5.0 (Windows NT 6.1) AppleWebKit/537.36 (KHTML, like Gecko) Chrome/41.0.2228.0 Safari/537.3\"}\n",
    "        reg_url = \"https://sdcds.org/dental-directory/\"\n",
    "        req = Request(url=reg_url, headers=headers) \n",
    "        html = urlopen(req).read() \n",
    "        soup=bs(html,'html.parser')\n",
    "        return soup\n",
    "    except NameError:\n",
    "          print(\"link url is not defined\")\n",
    "        \n",
    "   "
   ]
  },
  {
   "cell_type": "code",
   "execution_count": 3,
   "metadata": {},
   "outputs": [],
   "source": [
    "def info():\n",
    "    try:\n",
    "        names=html(\"h3\",{\"class\":\"dentist-h3\"})\n",
    "        s=html.find(\"div\",{ \"class\":\"wpb_text_column wpb_content_element\"})\n",
    "        emails=s.find_all('a')\n",
    "        d=str(emails)\n",
    "        Email = re.findall(\"([a-zA-Z0-9_.+-]+@[a-zA-Z0-9-]+\\.[a-zA-Z0-9-.]+)\", d)\n",
    "        email = list(dict.fromkeys(Email))\n",
    "        Names=[]\n",
    "        for i in names:\n",
    "            n=i.a.text\n",
    "            s=n.split(',')\n",
    "            Names.append(s[0])\n",
    "        if '   ' in Names:\n",
    "            Names.remove('   ')    \n",
    "        return [Names,email]\n",
    "    except:\n",
    "        print(\"Retrieving problem\")"
   ]
  },
  {
   "cell_type": "code",
   "execution_count": 4,
   "metadata": {},
   "outputs": [],
   "source": [
    "def csv_filename(filename):\n",
    "    try:\n",
    "        headers=\"Name,Email,\\n\"#csv is delimited newline thats y\n",
    "        f=open(filename,\"w\")\n",
    "        f.write(headers)\n",
    "        f.close()\n",
    "    except NameError:\n",
    "        print('file creation problem')"
   ]
  },
  {
   "cell_type": "code",
   "execution_count": 5,
   "metadata": {},
   "outputs": [],
   "source": [
    "def extract_csv(filename):\n",
    "    try:\n",
    "        f=open(filename,\"a+\")\n",
    "        for j,i in enumerate(Names):\n",
    "            f.write(Names[j]+\" ,\"+email[j]+\"\\n\")\n",
    "       #dont forget to delimited new line\n",
    "        f.close()\n",
    "    except:\n",
    "        print(\"importing python to csv problem\")"
   ]
  },
  {
   "cell_type": "code",
   "execution_count": null,
   "metadata": {},
   "outputs": [],
   "source": [
    "csv_filename(\"Dentistss_Info.csv\")"
   ]
  },
  {
   "cell_type": "code",
   "execution_count": 6,
   "metadata": {},
   "outputs": [
    {
     "name": "stdout",
     "output_type": "stream",
     "text": [
      "importing python to csv problem\n",
      "69\n"
     ]
    }
   ],
   "source": [
    "c=0\n",
    "for i in range(100):\n",
    "    html=url(\"https://sdcds.org/dental-directory/\")\n",
    "    Names,email=info()\n",
    "    if len(Names)==len(email):\n",
    "        c+=1\n",
    "        extract_csv(\"Dentistss_Info.csv\")\n",
    "    continue\n",
    "print(c)"
   ]
  },
  {
   "cell_type": "code",
   "execution_count": null,
   "metadata": {},
   "outputs": [],
   "source": [
    "with open('dentists_Info.csv','a+',newline=\"\") as file:        \n",
    "    new_data=DictWriter(file,fieldnames=[\"Name\",\"Email\"])\n",
    "    if os.stat('Dentist_Info.csv').st_size==0:\n",
    "        new_data.writeheader()\n",
    "    new_data.writerow({\n",
    "        'Name':Names,\n",
    "        'Email':email})  \n",
    "   "
   ]
  },
  {
   "cell_type": "code",
   "execution_count": null,
   "metadata": {},
   "outputs": [],
   "source": []
  }
 ],
 "metadata": {
  "kernelspec": {
   "display_name": "Python 3",
   "language": "python",
   "name": "python3"
  },
  "language_info": {
   "codemirror_mode": {
    "name": "ipython",
    "version": 3
   },
   "file_extension": ".py",
   "mimetype": "text/x-python",
   "name": "python",
   "nbconvert_exporter": "python",
   "pygments_lexer": "ipython3",
   "version": "3.7.3"
  }
 },
 "nbformat": 4,
 "nbformat_minor": 2
}
