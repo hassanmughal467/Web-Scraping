{
 "cells": [
  {
   "cell_type": "code",
   "execution_count": 1,
   "id": "ee0e6b4e",
   "metadata": {},
   "outputs": [],
   "source": [
    "# import libraries \n",
    "\n",
    "from bs4 import BeautifulSoup\n",
    "import requests\n",
    "import time\n",
    "import datetime\n",
    "#for email\n",
    "import smtplib\n",
    "from selenium import webdriver\n",
    "import csv"
   ]
  },
  {
   "cell_type": "code",
   "execution_count": 2,
   "id": "7104e279",
   "metadata": {},
   "outputs": [],
   "source": [
    "def get_url(search_term):\n",
    "    \"\"\"Generate a url from search term\"\"\"\n",
    "    template=\"https://www.amazon.com/s?k={}&ref=nb_sb_ss_ts-doa-p_2_8\"\n",
    "    search_term=search_term.replace(' ','+')\n",
    "    \n",
    "    #add the term query to url\n",
    "    url= template.format(search_term)\n",
    "    #add page queryplaceholder\n",
    "    url+='&page{}'\n",
    "    return url\n",
    "\n",
    "\n",
    "def extract_record(item):\n",
    "    \"\"\"extract and return data from single record\"\"\"\n",
    "    \n",
    "    #description and url\n",
    "    atag=item.h2.a\n",
    "    description=atag.text.strip()\n",
    "    url=\"https://www.amazon.com\"+atag.get(\"href\")\n",
    "    try:\n",
    "    # price\n",
    "        price_parent=item.find(\"span\",\"a-price\")\n",
    "        price_detail=price_parent.find(\"span\",\"a-offscreen\")\n",
    "        price=price_detail.text.strip()\n",
    "    except AttributeError:\n",
    "        return \n",
    "    \n",
    "    try:\n",
    "    # review count\n",
    "        rating=item.i.text.strip()\n",
    "        count=item.find(\"span\",{\"class\":\"a-size-base s-underline-text\"})\n",
    "        review_count=count.text.strip()\n",
    "    except AttributeError:\n",
    "        rating=\"\"\n",
    "        review_count=\"\"\n",
    "    \n",
    "    result=(description,price,rating,review_count,url)\n",
    "    return result\n",
    "\n",
    "def main(search_term):\n",
    "    \"\"\"Run main program routine\"\"\"\n",
    "    #startup webdriver\n",
    "   \n",
    "    \n",
    "    driver = webdriver.Chrome(executable_path=r'C:\\Users\\HP\\Downloads\\chromedriver_win32\\chromedriver.exe')\n",
    "    \n",
    "    records=[]\n",
    "    url=get_url(search_term)\n",
    "    \n",
    "    for page in range(1,21):\n",
    "        driver.get(url.format(page))\n",
    "        soup = BeautifulSoup(driver.page_source, \"html.parser\")\n",
    "        results = soup.find_all(\"div\",{\"data-component-type\":\"s-search-result\"})\n",
    "\n",
    "        for item in results:\n",
    "            record=extract_record(item)\n",
    "            if record:\n",
    "                records.append(record)\n",
    "                \n",
    "    driver.close()\n",
    "    #save data to csv file\n",
    "    with open('UltraWide_Monitor_Dataset.csv', 'w', newline='', encoding='UTF8') as f:\n",
    "        writer = csv.writer(f)\n",
    "        writer.writerow([\"Description\",\"price\",\"rating\",\"review count\",\"url\"])\n",
    "        writer.writerows(records)"
   ]
  },
  {
   "cell_type": "code",
   "execution_count": 3,
   "id": "2554c1b6",
   "metadata": {},
   "outputs": [],
   "source": [
    "main('ultrawide monitor')"
   ]
  },
  {
   "cell_type": "code",
   "execution_count": null,
   "id": "d6642d95",
   "metadata": {},
   "outputs": [],
   "source": []
  }
 ],
 "metadata": {
  "kernelspec": {
   "display_name": "Python 3 (ipykernel)",
   "language": "python",
   "name": "python3"
  },
  "language_info": {
   "codemirror_mode": {
    "name": "ipython",
    "version": 3
   },
   "file_extension": ".py",
   "mimetype": "text/x-python",
   "name": "python",
   "nbconvert_exporter": "python",
   "pygments_lexer": "ipython3",
   "version": "3.10.2"
  }
 },
 "nbformat": 4,
 "nbformat_minor": 5
}
