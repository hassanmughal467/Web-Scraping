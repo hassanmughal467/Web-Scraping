{
 "cells": [
  {
   "cell_type": "code",
   "execution_count": 1,
   "metadata": {},
   "outputs": [],
   "source": [
    "import urllib.parse,urllib.error,urllib.request\n",
    "from bs4 import BeautifulSoup as bs\n",
    "import ssl\n",
    "import re"
   ]
  },
  {
   "cell_type": "code",
   "execution_count": 2,
   "metadata": {},
   "outputs": [],
   "source": [
    "url=\"https://www.ebay.com/b/3D-Printers-Supplies/183062/bn_55163226\""
   ]
  },
  {
   "cell_type": "code",
   "execution_count": 3,
   "metadata": {},
   "outputs": [],
   "source": [
    "# Ignore SSL certificate errors\n",
    "ctx = ssl.create_default_context()\n",
    "ctx.check_hostname = False\n",
    "ctx.verify_mode = ssl.CERT_NONE\n",
    "html = urllib.request.urlopen(url,context=ctx).read()\n",
    "soup=bs(html,'html.parser')"
   ]
  },
  {
   "cell_type": "code",
   "execution_count": 4,
   "metadata": {},
   "outputs": [
    {
     "data": {
      "text/plain": [
       "48"
      ]
     },
     "execution_count": 4,
     "metadata": {},
     "output_type": "execute_result"
    }
   ],
   "source": [
    "containers=soup.findAll(\"li\",{\"class\":\"s-item\"})\n",
    "containers=soup.findAll(\"div\",{\"class\":\"s-item__info clearfix\"})\n",
    "len(containers)"
   ]
  },
  {
   "cell_type": "code",
   "execution_count": 5,
   "metadata": {},
   "outputs": [
    {
     "data": {
      "text/plain": [
       "'$4.49'"
      ]
     },
     "execution_count": 5,
     "metadata": {},
     "output_type": "execute_result"
    }
   ],
   "source": [
    "containers[0].find(\"div\",{\"class\":\"s-item__detail s-item__detail--primary\"}).get_text()"
   ]
  },
  {
   "cell_type": "code",
   "execution_count": 6,
   "metadata": {},
   "outputs": [
    {
     "data": {
      "text/plain": [
       "'$0.80 shipping'"
      ]
     },
     "execution_count": 6,
     "metadata": {},
     "output_type": "execute_result"
    }
   ],
   "source": [
    "containers[0].find(\"span\",{\"class\":\"s-item__shipping s-item__logisticsCost\"}).text"
   ]
  },
  {
   "cell_type": "code",
   "execution_count": 7,
   "metadata": {},
   "outputs": [
    {
     "data": {
      "text/plain": [
       "'Right Hand Aluminum Extruder Drive Feed Frame For Creality Ender 3 3D Printer'"
      ]
     },
     "execution_count": 7,
     "metadata": {},
     "output_type": "execute_result"
    }
   ],
   "source": [
    "containers[0].find(\"h3\",{\"class\":\"s-item__title\"}).get_text()"
   ]
  },
  {
   "cell_type": "code",
   "execution_count": 8,
   "metadata": {},
   "outputs": [
    {
     "data": {
      "text/plain": [
       "'From China'"
      ]
     },
     "execution_count": 8,
     "metadata": {},
     "output_type": "execute_result"
    }
   ],
   "source": [
    "containers[0].find(\"span\",{\"class\":\"s-item__location s-item__itemLocation\"}).text"
   ]
  },
  {
   "cell_type": "code",
   "execution_count": null,
   "metadata": {},
   "outputs": [],
   "source": [
    "containers[0].find(\"span\",{\"class\":\"s-item__detail s-item__detail--secondary\"}).find(\"span\",{\"class\":\"s-item__dynamic s-item__dynamicAttributes1\"})"
   ]
  },
  {
   "cell_type": "code",
   "execution_count": 9,
   "metadata": {},
   "outputs": [
    {
     "ename": "AttributeError",
     "evalue": "'NoneType' object has no attribute 'text'",
     "output_type": "error",
     "traceback": [
      "\u001b[1;31m---------------------------------------------------------------------------\u001b[0m",
      "\u001b[1;31mAttributeError\u001b[0m                            Traceback (most recent call last)",
      "\u001b[1;32m<ipython-input-9-d197901d6643>\u001b[0m in \u001b[0;36m<module>\u001b[1;34m\u001b[0m\n\u001b[1;32m----> 1\u001b[1;33m \u001b[0mcontainers\u001b[0m\u001b[1;33m[\u001b[0m\u001b[1;36m0\u001b[0m\u001b[1;33m]\u001b[0m\u001b[1;33m.\u001b[0m\u001b[0mfind\u001b[0m\u001b[1;33m(\u001b[0m\u001b[1;34m\"span\"\u001b[0m\u001b[1;33m,\u001b[0m\u001b[1;33m{\u001b[0m\u001b[1;34m\"class\"\u001b[0m\u001b[1;33m:\u001b[0m\u001b[1;34m\"NEGATIVE\"\u001b[0m\u001b[1;33m}\u001b[0m\u001b[1;33m)\u001b[0m\u001b[1;33m.\u001b[0m\u001b[0mtext\u001b[0m\u001b[1;33m\u001b[0m\u001b[1;33m\u001b[0m\u001b[0m\n\u001b[0m",
      "\u001b[1;31mAttributeError\u001b[0m: 'NoneType' object has no attribute 'text'"
     ]
    }
   ],
   "source": [
    "containers[0].find(\"span\",{\"class\":\"NEGATIVE\"}).text"
   ]
  },
  {
   "cell_type": "code",
   "execution_count": 10,
   "metadata": {},
   "outputs": [
    {
     "data": {
      "text/plain": [
       "46"
      ]
     },
     "execution_count": 10,
     "metadata": {},
     "output_type": "execute_result"
    }
   ],
   "source": [
    "filename=\"3D-Printers-Supplies_Info.csv\"\n",
    "headers=\"Product Name,Product Price,Shipping,Country \\n\\n\"#csv is delimited newline thats y\n",
    "f=open(filename,\"w\")\n",
    "f.write(headers)"
   ]
  },
  {
   "cell_type": "code",
   "execution_count": 11,
   "metadata": {},
   "outputs": [],
   "source": [
    "list=[]\n",
    "for con in containers:\n",
    "    try:\n",
    "        country=con.find(\"span\",{\"class\":\"s-item__location s-item__itemLocation\"}).text\n",
    "        product_name=con.find(\"h3\",{\"class\":\"s-item__title\"}).get_text()\n",
    "        product_price=con.find(\"div\",{\"class\":\"s-item__detail s-item__detail--primary\"}).get_text()\n",
    "        shipping=con.find(\"span\",{\"class\":\"s-item__shipping s-item__logisticsCost\"}).text\n",
    "        l=[product_name,product_price,shipping,country]\n",
    "        list.append(l)\n",
    "        f.write(product_name+\",\"+product_price+\",\"+shipping+\",\"+country+\"\\n\")\n",
    "    except:\n",
    "        country=\"country not available\"\n",
    "    if country==True:\n",
    "        country=\"country not available\"\n",
    "        product_name=con.find(\"h3\",{\"class\":\"s-item__title\"}).get_text()\n",
    "        product_price=con.find(\"div\",{\"class\":\"s-item__detail s-item__detail--primary\"}).get_text()\n",
    "        shipping=con.find(\"span\",{\"class\":\"s-item__shipping s-item__logisticsCost\"}).text\n",
    "        l=[product_name,product_price,shipping,country]\n",
    "        list.append(l)\n",
    "        f.write(product_name+\",\"+product_price+\",\"+shipping+\",\"+country+\"\\n\")\n",
    "    else:\n",
    "        continue\n",
    "f.close()"
   ]
  },
  {
   "cell_type": "code",
   "execution_count": null,
   "metadata": {},
   "outputs": [],
   "source": []
  }
 ],
 "metadata": {
  "kernelspec": {
   "display_name": "Python 3",
   "language": "python",
   "name": "python3"
  },
  "language_info": {
   "codemirror_mode": {
    "name": "ipython",
    "version": 3
   },
   "file_extension": ".py",
   "mimetype": "text/x-python",
   "name": "python",
   "nbconvert_exporter": "python",
   "pygments_lexer": "ipython3",
   "version": "3.7.3"
  }
 },
 "nbformat": 4,
 "nbformat_minor": 2
}
